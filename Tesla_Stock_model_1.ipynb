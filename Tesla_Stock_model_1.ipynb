{
  "nbformat": 4,
  "nbformat_minor": 0,
  "metadata": {
    "colab": {
      "provenance": []
    },
    "kernelspec": {
      "name": "python3",
      "display_name": "Python 3"
    },
    "language_info": {
      "name": "python"
    }
  },
  "cells": [
    {
      "cell_type": "code",
      "execution_count": 1,
      "metadata": {
        "colab": {
          "base_uri": "https://localhost:8080/"
        },
        "id": "xgUDKzRZ0Mvf",
        "outputId": "8ce6341b-3378-4eaf-884a-9b3163bbe739"
      },
      "outputs": [
        {
          "output_type": "stream",
          "name": "stderr",
          "text": [
            "\r[*********************100%***********************]  1 of 1 completed"
          ]
        },
        {
          "output_type": "stream",
          "name": "stdout",
          "text": [
            "Price       Adj Close      Close       High        Low       Open     Volume\n",
            "Ticker           TSLA       TSLA       TSLA       TSLA       TSLA       TSLA\n",
            "Date                                                                        \n",
            "2020-01-15  34.566666  34.566666  35.855999  34.452667  35.317333  260532000\n",
            "2020-01-16  34.232666  34.232666  34.297333  32.811333  32.916668  326050500\n",
            "2020-01-17  34.033333  34.033333  34.377998  33.543999  33.840668  204436500\n",
            "2020-01-21  36.480000  36.480000  36.571999  35.227333  35.349998  267052500\n",
            "2020-01-22  37.970669  37.970669  39.633331  37.273335  38.125999  470535000\n"
          ]
        },
        {
          "output_type": "stream",
          "name": "stderr",
          "text": [
            "\n"
          ]
        }
      ],
      "source": [
        "import yfinance as yf #Import data yahoo finance python library newly learned\n",
        "import numpy as np #Numpy for numeric calculations\n",
        "import pandas as pd #pandas\n",
        "import matplotlib.pyplot as plt #Matplot for plotting\n",
        "\n",
        "#Load Tesla Data\n",
        "# First I don't know what is a ticker after some research i know what that is\n",
        "ticker     = \"TSLA\" #For stock ticker I put 'TSLA' for tesla symbol\n",
        "start_date = '2020-01-15' #Traing One year data to today\n",
        "end_date   = '2025-01-15' #Current Date\n",
        "\n",
        "#Download Data from yahoo finance library\n",
        "\n",
        "tesla_data = yf.download(ticker ,start = start_date, end = end_date ) #This is the historical data\n",
        "\n",
        "#print first few rows\n",
        "\n",
        "print(tesla_data.head())#This helps to see the some of data for confirmation\n"
      ]
    }
  ]
}